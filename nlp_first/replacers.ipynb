{
 "cells": [
  {
   "cell_type": "code",
   "execution_count": 1,
   "id": "23726684",
   "metadata": {},
   "outputs": [],
   "source": [
    "# 토큰의 대체 및 수정\n",
    "# 정규 표현식을 사용한 단어 대체\n",
    "import re\n",
    "replacement_patterns = [  # 첫 번째 용어 - 일치, 두 번째 용어 - 대응 패턴으로 정의해서 패턴 쌍 컴파일\n",
    "    (r'won\\'t', 'will not'),\n",
    "    (r'can\\'t', 'cannot'),\n",
    "    (r'i\\'m', 'i am'),\n",
    "    (r'ain\\'t', 'is not'),\n",
    "    (r'(\\w+)\\'ll', '\\g<1> will'),\n",
    "    (r'(\\w+)n\\'t', '\\g<1> not'),\n",
    "    (r'(\\w+)\\'ve', '\\g<1> have'),\n",
    "    (r'(\\w+)\\'s', '\\g<1> is'),\n",
    "    (r'(\\w+)\\'re', '\\g<1> are'),\n",
    "    (r'(\\w+)\\'d', 'g<1> would')\n",
    "]\n",
    "# RegexpReplacer 클래스 - 패턴 쌍을 컴파일하는 작업 수행, replace 메소드 제공\n",
    "class RegexpReplacer(object):\n",
    "    def __init__(self, patterns=replacement_patterns):  \n",
    "        self.patterns = [(re.compile(regex), repl) for (regex, repl)\n",
    "in patterns]\n",
    "    def replace(self, text):  # replace() : 패턴을 다른 패턴으로 대체\n",
    "        s = text\n",
    "        for (pattern, repl) in self.patterns:\n",
    "            (s, count) = re.subn(pattern, repl, s)\n",
    "        return s  # replacers.py로 같은 폴더 저장"
   ]
  },
  {
   "cell_type": "code",
   "execution_count": null,
   "id": "07ccd30b",
   "metadata": {},
   "outputs": [],
   "source": []
  }
 ],
 "metadata": {
  "kernelspec": {
   "display_name": "nlpfirst",
   "language": "python",
   "name": "nlpfirst"
  },
  "language_info": {
   "codemirror_mode": {
    "name": "ipython",
    "version": 3
   },
   "file_extension": ".py",
   "mimetype": "text/x-python",
   "name": "python",
   "nbconvert_exporter": "python",
   "pygments_lexer": "ipython3",
   "version": "3.10.9"
  }
 },
 "nbformat": 4,
 "nbformat_minor": 5
}
